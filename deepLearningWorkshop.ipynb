{
  "nbformat": 4,
  "nbformat_minor": 0,
  "metadata": {
    "colab": {
      "name": "deepLearningWorkshop.ipynb",
      "version": "0.3.2",
      "provenance": [],
      "collapsed_sections": [],
      "include_colab_link": true
    },
    "kernelspec": {
      "name": "python3",
      "display_name": "Python 3"
    },
    "accelerator": "GPU"
  },
  "cells": [
    {
      "cell_type": "markdown",
      "metadata": {
        "id": "view-in-github",
        "colab_type": "text"
      },
      "source": [
        "<a href=\"https://colab.research.google.com/github/rishavkohli/workshopdeeplearning/blob/master/deepLearningWorkshop.ipynb\" target=\"_parent\"><img src=\"https://colab.research.google.com/assets/colab-badge.svg\" alt=\"Open In Colab\"/></a>"
      ]
    },
    {
      "metadata": {
        "id": "-93LakFcBw7L",
        "colab_type": "code",
        "colab": {}
      },
      "cell_type": "code",
      "source": [
        "import tensorflow"
      ],
      "execution_count": 0,
      "outputs": []
    },
    {
      "metadata": {
        "id": "vWMV_Fp5EXto",
        "colab_type": "code",
        "colab": {
          "base_uri": "https://localhost:8080/",
          "height": 129
        },
        "outputId": "b36f83ca-d65b-4f88-fd7c-60b062e1d7f6"
      },
      "cell_type": "code",
      "source": [
        "from google.colab import drive\n",
        "drive.mount('/content/drive/')"
      ],
      "execution_count": 2,
      "outputs": [
        {
          "output_type": "stream",
          "text": [
            "Go to this URL in a browser: https://accounts.google.com/o/oauth2/auth?client_id=947318989803-6bn6qk8qdgf4n4g3pfee6491hc0brc4i.apps.googleusercontent.com&redirect_uri=urn%3Aietf%3Awg%3Aoauth%3A2.0%3Aoob&scope=email%20https%3A%2F%2Fwww.googleapis.com%2Fauth%2Fdocs.test%20https%3A%2F%2Fwww.googleapis.com%2Fauth%2Fdrive%20https%3A%2F%2Fwww.googleapis.com%2Fauth%2Fdrive.photos.readonly%20https%3A%2F%2Fwww.googleapis.com%2Fauth%2Fpeopleapi.readonly&response_type=code\n",
            "\n",
            "Enter your authorization code:\n",
            "··········\n",
            "Mounted at /content/drive/\n"
          ],
          "name": "stdout"
        }
      ]
    },
    {
      "metadata": {
        "id": "BUYZCYUdFZXL",
        "colab_type": "code",
        "colab": {
          "base_uri": "https://localhost:8080/",
          "height": 35
        },
        "outputId": "8bbe5832-c820-43ba-ce44-dd1cd04bc43b"
      },
      "cell_type": "code",
      "source": [
        "!ls\n",
        "\n"
      ],
      "execution_count": 6,
      "outputs": [
        {
          "output_type": "stream",
          "text": [
            "drive  sample_data\n"
          ],
          "name": "stdout"
        }
      ]
    },
    {
      "metadata": {
        "id": "GwM1RutWF8to",
        "colab_type": "code",
        "colab": {
          "base_uri": "https://localhost:8080/",
          "height": 972
        },
        "outputId": "eca6e459-5627-4e55-83c7-9f0fa1458956"
      },
      "cell_type": "code",
      "source": [
        "!ls '/content/drive/My Drive'"
      ],
      "execution_count": 9,
      "outputs": [
        {
          "output_type": "stream",
          "text": [
            "'ATTACKS ON INDIAN SECURITY'\n",
            "'Colab Notebooks'\n",
            "'Contact Information.gform'\n",
            " Data.csv\n",
            "'dbms reasearch.odt'\n",
            "'Lesson 01.pdf'\n",
            "'Lesson 02.pdf'\n",
            "'Lesson 03.pdf'\n",
            "'Lesson 04.pdf'\n",
            "'Lesson 05.pdf'\n",
            "'Lesson 06.pdf'\n",
            "'Lesson 07.pdf'\n",
            "'Lesson 08.pdf'\n",
            "'Lesson 09.pdf'\n",
            "'Lesson 10.pdf'\n",
            "'Lesson 11.pdf'\n",
            "'Lesson 12.pdf'\n",
            "'Lesson 13.pdf'\n",
            "'Lesson 14.pdf'\n",
            "'Lesson 15.pdf'\n",
            "'Lesson 16.pdf'\n",
            "'Lesson 17.pdf'\n",
            "'Lesson 18.pdf'\n",
            "'Lesson 19.pdf'\n",
            "'Lesson 20.pdf'\n",
            "'Lesson 21.pdf'\n",
            "'Lesson 22.pdf'\n",
            "'Lesson 23.pdf'\n",
            "'Lesson 24.pdf'\n",
            "'Lesson 25.pdf'\n",
            "'Lesson 26.pdf'\n",
            "'Lesson 27.pdf'\n",
            "'Lesson 28.pdf'\n",
            "'Lesson 29.pdf'\n",
            "'Lesson 30.pdf'\n",
            "'Lesson 31.pdf'\n",
            "'Lesson 32.pdf'\n",
            "'Lesson 33.pdf'\n",
            "'Lesson 34.pdf'\n",
            "'Lesson 35.pdf'\n",
            "'Lesson 36.pdf'\n",
            "'Lesson 37.pdf'\n",
            "'Lesson 38.pdf'\n",
            "'Lesson 39.pdf'\n",
            "'Lesson 40.pdf'\n",
            "'Lesson 41.pdf'\n",
            "'Party Invite.gform'\n",
            "'registration(deep learning).gsheet'\n",
            " RSVP.gform\n",
            " spam_text.gsheet\n",
            "'sports guide.gdoc'\n",
            "'S.  Russell  and  P.  Norvig,  Artificial  Intelligence  A  Modern  Approach  (2nd  ed).pdf'\n"
          ],
          "name": "stdout"
        }
      ]
    },
    {
      "metadata": {
        "id": "RDtGb831G0DG",
        "colab_type": "code",
        "colab": {}
      },
      "cell_type": "code",
      "source": [
        ""
      ],
      "execution_count": 0,
      "outputs": []
    },
    {
      "metadata": {
        "id": "XWvlK-EJGKqV",
        "colab_type": "code",
        "colab": {}
      },
      "cell_type": "code",
      "source": [
        ""
      ],
      "execution_count": 0,
      "outputs": []
    }
  ]
}