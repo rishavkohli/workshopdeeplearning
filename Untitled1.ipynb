{
  "nbformat": 4,
  "nbformat_minor": 0,
  "metadata": {
    "colab": {
      "name": "Untitled1.ipynb",
      "version": "0.3.2",
      "provenance": [],
      "collapsed_sections": [],
      "include_colab_link": true
    },
    "kernelspec": {
      "name": "python3",
      "display_name": "Python 3"
    }
  },
  "cells": [
    {
      "cell_type": "markdown",
      "metadata": {
        "id": "view-in-github",
        "colab_type": "text"
      },
      "source": [
        "<a href=\"https://colab.research.google.com/github/rishavkohli/workshopdeeplearning/blob/master/Untitled1.ipynb\" target=\"_parent\"><img src=\"https://colab.research.google.com/assets/colab-badge.svg\" alt=\"Open In Colab\"/></a>"
      ]
    },
    {
      "metadata": {
        "id": "1tQMYVWTh-HS",
        "colab_type": "code",
        "colab": {}
      },
      "cell_type": "code",
      "source": [
        "import tensorflow as tf\n",
        "import numpy\n",
        "import matplotlib.pyplot as plt\n",
        "rng =numpy.random"
      ],
      "execution_count": 0,
      "outputs": []
    },
    {
      "metadata": {
        "id": "F3fozGA2iY4W",
        "colab_type": "text"
      },
      "cell_type": "markdown",
      "source": [
        "#Parameter settings"
      ]
    },
    {
      "metadata": {
        "id": "iJ9BRikoiXOa",
        "colab_type": "code",
        "colab": {}
      },
      "cell_type": "code",
      "source": [
        "#Parameters\n",
        "learning_rate=0.01\n",
        "training_epochs =1000\n",
        "display_step=50"
      ],
      "execution_count": 0,
      "outputs": []
    },
    {
      "metadata": {
        "id": "KlOEvJqSisl0",
        "colab_type": "text"
      },
      "cell_type": "markdown",
      "source": [
        "#Defining the training dataset"
      ]
    },
    {
      "metadata": {
        "id": "FVTJJ3TsirER",
        "colab_type": "code",
        "colab": {}
      },
      "cell_type": "code",
      "source": [
        "#training data\n",
        "train_x = numpy.asarray([3.3,4.4,5.5,6.71,6.93,4.168,9.779,8.9,10.0])\n",
        "train_y =  numpy.asarray([1.3,5.4,5.3,5.11,3.3,8.8,9.9,8.0,1.0])\n",
        "\n",
        "#n_samples = trai_x.shape[0]"
      ],
      "execution_count": 0,
      "outputs": []
    },
    {
      "metadata": {
        "id": "YJWFqkfwj5Rk",
        "colab_type": "text"
      },
      "cell_type": "markdown",
      "source": [
        ""
      ]
    },
    {
      "metadata": {
        "id": "wtp19hb5jvo2",
        "colab_type": "code",
        "colab": {}
      },
      "cell_type": "code",
      "source": [
        "#tf Graph input\n",
        "X= tf.placeholder(\"float\")\n",
        "Y= tf.placeholder(\"float\")\n",
        "\n",
        "#set model weights\n",
        "w=tf.Variable(rng.randn(),name=\"weight\")\n",
        "b=tf.Variable(rng.randn(),name=\"bias\")"
      ],
      "execution_count": 0,
      "outputs": []
    },
    {
      "metadata": {
        "id": "mX0CKSAQmEFV",
        "colab_type": "text"
      },
      "cell_type": "markdown",
      "source": [
        "#Defining model,cost function and optimizer"
      ]
    },
    {
      "metadata": {
        "id": "jfcVo9hrkd3Q",
        "colab_type": "text"
      },
      "cell_type": "markdown",
      "source": [
        ""
      ]
    },
    {
      "metadata": {
        "id": "uuUCViZFkcZd",
        "colab_type": "code",
        "colab": {}
      },
      "cell_type": "code",
      "source": [
        "#construct a linear model\n",
        "pred =tf.add(tf.multiply(X,w),b)\n",
        "\n",
        "#mean squared error\n",
        "#cost = tf.reduce_sum(tfpow(pred-Y,2))/(2*n_samples)\n",
        "cost = tf.reduce_sum(tf.pow(pred-Y,2))/(2)\n",
        "#gradient decient\n",
        "optimizer= tf.train.GradientDescentOptimizer(learning_rate).minimize(cost)\n",
        "\n",
        "#Initialize the variables(i.e. assign default value)\n",
        "init = tf.global_variables_initializer()"
      ],
      "execution_count": 0,
      "outputs": []
    },
    {
      "metadata": {
        "id": "ijTKh5HomQax",
        "colab_type": "text"
      },
      "cell_type": "markdown",
      "source": [
        "#Build the model and execute on the training and testing data"
      ]
    },
    {
      "metadata": {
        "id": "EwsM0qrYmMtb",
        "colab_type": "code",
        "colab": {}
      },
      "cell_type": "code",
      "source": [
        "sess=tf.Session()\n",
        "sess.run(init)"
      ],
      "execution_count": 0,
      "outputs": []
    },
    {
      "metadata": {
        "id": "cozUF7t2r9aZ",
        "colab_type": "text"
      },
      "cell_type": "markdown",
      "source": [
        ""
      ]
    },
    {
      "metadata": {
        "id": "zlCVbtQfmdB-",
        "colab_type": "code",
        "colab": {}
      },
      "cell_type": "code",
      "source": [
        ""
      ],
      "execution_count": 0,
      "outputs": []
    },
    {
      "metadata": {
        "id": "TumECC-AmTtq",
        "colab_type": "text"
      },
      "cell_type": "markdown",
      "source": [
        "train model"
      ]
    },
    {
      "metadata": {
        "id": "1bqqV3SsmSvf",
        "colab_type": "code",
        "colab": {
          "base_uri": "https://localhost:8080/",
          "height": 3708
        },
        "outputId": "bc9679ff-ad09-4fd1-8144-df1dca3f06ee"
      },
      "cell_type": "code",
      "source": [
        "for epoch in range(training_epochs):\n",
        "  for (x, y) in zip(train_x, train_y):\n",
        "    sess.run(optimizer, feed_dict={X: x, Y: y})\n",
        "\n",
        "    # Display logs per epoch step\n",
        "    if (epoch+1) % display_step == 0:\n",
        "      c = sess.run(cost, feed_dict={X: train_x, Y:train_y})\n",
        "      print(\"Epoch:\", '%04d' % (epoch+1), \"cost=\", \"{:.9f}\".format(c), \\\n",
        "              \"W=\", sess.run(w), \"b=\", sess.run(b))\n",
        "\n",
        "print(\"Optimization Finished!\")\n",
        "\n",
        "# Print the cost, weight and bias after the model training\n",
        "training_cost = sess.run(cost, feed_dict={X: train_x, Y: train_y})\n",
        "print(\"Training cost=\", training_cost, \"W=\", sess.run(w), \"b=\", sess.run(b), '\\n')\n",
        "    \n",
        "# Graphic display\n",
        "plt.plot(train_x, train_y, 'ro', label='Original data')\n",
        "plt.plot(train_x, sess.run(w) * train_x + sess.run(b), label='Fitted line')\n",
        "plt.legend()\n",
        "plt.show()"
      ],
      "execution_count": 19,
      "outputs": [
        {
          "output_type": "stream",
          "text": [
            "Epoch: 0050 cost= 109.346618652 W= -0.9617972 b= 8.855038\n",
            "Epoch: 0050 cost= 101.586326599 W= -0.92761487 b= 8.862806\n",
            "Epoch: 0050 cost= 84.820709229 W= -0.8429657 b= 8.878197\n",
            "Epoch: 0050 cost= 66.035034180 W= -0.71627396 b= 8.897078\n",
            "Epoch: 0050 cost= 71.697181702 W= -0.7601616 b= 8.890744\n",
            "Epoch: 0050 cost= 57.586196899 W= -0.6318868 b= 8.92152\n",
            "Epoch: 0050 cost= 114.650444031 W= 0.06806476 b= 8.993097\n",
            "Epoch: 0050 cost= 84.834281921 W= -0.07423494 b= 8.977109\n",
            "Epoch: 0050 cost= 76.945259094 W= -0.7977109 b= 8.904761\n",
            "Epoch: 0100 cost= 109.346618652 W= -0.9617972 b= 8.855038\n",
            "Epoch: 0100 cost= 101.586326599 W= -0.92761487 b= 8.862806\n",
            "Epoch: 0100 cost= 84.820709229 W= -0.8429657 b= 8.878197\n",
            "Epoch: 0100 cost= 66.035034180 W= -0.71627396 b= 8.897078\n",
            "Epoch: 0100 cost= 71.697181702 W= -0.7601616 b= 8.890744\n",
            "Epoch: 0100 cost= 57.586196899 W= -0.6318868 b= 8.92152\n",
            "Epoch: 0100 cost= 114.650444031 W= 0.06806476 b= 8.993097\n",
            "Epoch: 0100 cost= 84.834281921 W= -0.07423494 b= 8.977109\n",
            "Epoch: 0100 cost= 76.945259094 W= -0.7977109 b= 8.904761\n",
            "Epoch: 0150 cost= 109.346618652 W= -0.9617972 b= 8.855038\n",
            "Epoch: 0150 cost= 101.586326599 W= -0.92761487 b= 8.862806\n",
            "Epoch: 0150 cost= 84.820709229 W= -0.8429657 b= 8.878197\n",
            "Epoch: 0150 cost= 66.035034180 W= -0.71627396 b= 8.897078\n",
            "Epoch: 0150 cost= 71.697181702 W= -0.7601616 b= 8.890744\n",
            "Epoch: 0150 cost= 57.586196899 W= -0.6318868 b= 8.92152\n",
            "Epoch: 0150 cost= 114.650444031 W= 0.06806476 b= 8.993097\n",
            "Epoch: 0150 cost= 84.834281921 W= -0.07423494 b= 8.977109\n",
            "Epoch: 0150 cost= 76.945259094 W= -0.7977109 b= 8.904761\n",
            "Epoch: 0200 cost= 109.346618652 W= -0.9617972 b= 8.855038\n",
            "Epoch: 0200 cost= 101.586326599 W= -0.92761487 b= 8.862806\n",
            "Epoch: 0200 cost= 84.820709229 W= -0.8429657 b= 8.878197\n",
            "Epoch: 0200 cost= 66.035034180 W= -0.71627396 b= 8.897078\n",
            "Epoch: 0200 cost= 71.697181702 W= -0.7601616 b= 8.890744\n",
            "Epoch: 0200 cost= 57.586196899 W= -0.6318868 b= 8.92152\n",
            "Epoch: 0200 cost= 114.650444031 W= 0.06806476 b= 8.993097\n",
            "Epoch: 0200 cost= 84.834281921 W= -0.07423494 b= 8.977109\n",
            "Epoch: 0200 cost= 76.945259094 W= -0.7977109 b= 8.904761\n",
            "Epoch: 0250 cost= 109.346618652 W= -0.9617972 b= 8.855038\n",
            "Epoch: 0250 cost= 101.586326599 W= -0.92761487 b= 8.862806\n",
            "Epoch: 0250 cost= 84.820709229 W= -0.8429657 b= 8.878197\n",
            "Epoch: 0250 cost= 66.035034180 W= -0.71627396 b= 8.897078\n",
            "Epoch: 0250 cost= 71.697181702 W= -0.7601616 b= 8.890744\n",
            "Epoch: 0250 cost= 57.586196899 W= -0.6318868 b= 8.92152\n",
            "Epoch: 0250 cost= 114.650444031 W= 0.06806476 b= 8.993097\n",
            "Epoch: 0250 cost= 84.834281921 W= -0.07423494 b= 8.977109\n",
            "Epoch: 0250 cost= 76.945259094 W= -0.7977109 b= 8.904761\n",
            "Epoch: 0300 cost= 109.346618652 W= -0.9617972 b= 8.855038\n",
            "Epoch: 0300 cost= 101.586326599 W= -0.92761487 b= 8.862806\n",
            "Epoch: 0300 cost= 84.820709229 W= -0.8429657 b= 8.878197\n",
            "Epoch: 0300 cost= 66.035034180 W= -0.71627396 b= 8.897078\n",
            "Epoch: 0300 cost= 71.697181702 W= -0.7601616 b= 8.890744\n",
            "Epoch: 0300 cost= 57.586196899 W= -0.6318868 b= 8.92152\n",
            "Epoch: 0300 cost= 114.650444031 W= 0.06806476 b= 8.993097\n",
            "Epoch: 0300 cost= 84.834281921 W= -0.07423494 b= 8.977109\n",
            "Epoch: 0300 cost= 76.945259094 W= -0.7977109 b= 8.904761\n",
            "Epoch: 0350 cost= 109.346618652 W= -0.9617972 b= 8.855038\n",
            "Epoch: 0350 cost= 101.586326599 W= -0.92761487 b= 8.862806\n",
            "Epoch: 0350 cost= 84.820709229 W= -0.8429657 b= 8.878197\n",
            "Epoch: 0350 cost= 66.035034180 W= -0.71627396 b= 8.897078\n",
            "Epoch: 0350 cost= 71.697181702 W= -0.7601616 b= 8.890744\n",
            "Epoch: 0350 cost= 57.586196899 W= -0.6318868 b= 8.92152\n",
            "Epoch: 0350 cost= 114.650444031 W= 0.06806476 b= 8.993097\n",
            "Epoch: 0350 cost= 84.834281921 W= -0.07423494 b= 8.977109\n",
            "Epoch: 0350 cost= 76.945259094 W= -0.7977109 b= 8.904761\n",
            "Epoch: 0400 cost= 109.346618652 W= -0.9617972 b= 8.855038\n",
            "Epoch: 0400 cost= 101.586326599 W= -0.92761487 b= 8.862806\n",
            "Epoch: 0400 cost= 84.820709229 W= -0.8429657 b= 8.878197\n",
            "Epoch: 0400 cost= 66.035034180 W= -0.71627396 b= 8.897078\n",
            "Epoch: 0400 cost= 71.697181702 W= -0.7601616 b= 8.890744\n",
            "Epoch: 0400 cost= 57.586196899 W= -0.6318868 b= 8.92152\n",
            "Epoch: 0400 cost= 114.650444031 W= 0.06806476 b= 8.993097\n",
            "Epoch: 0400 cost= 84.834281921 W= -0.07423494 b= 8.977109\n",
            "Epoch: 0400 cost= 76.945259094 W= -0.7977109 b= 8.904761\n",
            "Epoch: 0450 cost= 109.346618652 W= -0.9617972 b= 8.855038\n",
            "Epoch: 0450 cost= 101.586326599 W= -0.92761487 b= 8.862806\n",
            "Epoch: 0450 cost= 84.820709229 W= -0.8429657 b= 8.878197\n",
            "Epoch: 0450 cost= 66.035034180 W= -0.71627396 b= 8.897078\n",
            "Epoch: 0450 cost= 71.697181702 W= -0.7601616 b= 8.890744\n",
            "Epoch: 0450 cost= 57.586196899 W= -0.6318868 b= 8.92152\n",
            "Epoch: 0450 cost= 114.650444031 W= 0.06806476 b= 8.993097\n",
            "Epoch: 0450 cost= 84.834281921 W= -0.07423494 b= 8.977109\n",
            "Epoch: 0450 cost= 76.945259094 W= -0.7977109 b= 8.904761\n",
            "Epoch: 0500 cost= 109.346618652 W= -0.9617972 b= 8.855038\n",
            "Epoch: 0500 cost= 101.586326599 W= -0.92761487 b= 8.862806\n",
            "Epoch: 0500 cost= 84.820709229 W= -0.8429657 b= 8.878197\n",
            "Epoch: 0500 cost= 66.035034180 W= -0.71627396 b= 8.897078\n",
            "Epoch: 0500 cost= 71.697181702 W= -0.7601616 b= 8.890744\n",
            "Epoch: 0500 cost= 57.586196899 W= -0.6318868 b= 8.92152\n",
            "Epoch: 0500 cost= 114.650444031 W= 0.06806476 b= 8.993097\n",
            "Epoch: 0500 cost= 84.834281921 W= -0.07423494 b= 8.977109\n",
            "Epoch: 0500 cost= 76.945259094 W= -0.7977109 b= 8.904761\n",
            "Epoch: 0550 cost= 109.346618652 W= -0.9617972 b= 8.855038\n",
            "Epoch: 0550 cost= 101.586326599 W= -0.92761487 b= 8.862806\n",
            "Epoch: 0550 cost= 84.820709229 W= -0.8429657 b= 8.878197\n",
            "Epoch: 0550 cost= 66.035034180 W= -0.71627396 b= 8.897078\n",
            "Epoch: 0550 cost= 71.697181702 W= -0.7601616 b= 8.890744\n",
            "Epoch: 0550 cost= 57.586196899 W= -0.6318868 b= 8.92152\n",
            "Epoch: 0550 cost= 114.650444031 W= 0.06806476 b= 8.993097\n",
            "Epoch: 0550 cost= 84.834281921 W= -0.07423494 b= 8.977109\n",
            "Epoch: 0550 cost= 76.945259094 W= -0.7977109 b= 8.904761\n",
            "Epoch: 0600 cost= 109.346618652 W= -0.9617972 b= 8.855038\n",
            "Epoch: 0600 cost= 101.586326599 W= -0.92761487 b= 8.862806\n",
            "Epoch: 0600 cost= 84.820709229 W= -0.8429657 b= 8.878197\n",
            "Epoch: 0600 cost= 66.035034180 W= -0.71627396 b= 8.897078\n",
            "Epoch: 0600 cost= 71.697181702 W= -0.7601616 b= 8.890744\n",
            "Epoch: 0600 cost= 57.586196899 W= -0.6318868 b= 8.92152\n",
            "Epoch: 0600 cost= 114.650444031 W= 0.06806476 b= 8.993097\n",
            "Epoch: 0600 cost= 84.834281921 W= -0.07423494 b= 8.977109\n",
            "Epoch: 0600 cost= 76.945259094 W= -0.7977109 b= 8.904761\n",
            "Epoch: 0650 cost= 109.346618652 W= -0.9617972 b= 8.855038\n",
            "Epoch: 0650 cost= 101.586326599 W= -0.92761487 b= 8.862806\n",
            "Epoch: 0650 cost= 84.820709229 W= -0.8429657 b= 8.878197\n",
            "Epoch: 0650 cost= 66.035034180 W= -0.71627396 b= 8.897078\n",
            "Epoch: 0650 cost= 71.697181702 W= -0.7601616 b= 8.890744\n",
            "Epoch: 0650 cost= 57.586196899 W= -0.6318868 b= 8.92152\n",
            "Epoch: 0650 cost= 114.650444031 W= 0.06806476 b= 8.993097\n",
            "Epoch: 0650 cost= 84.834281921 W= -0.07423494 b= 8.977109\n",
            "Epoch: 0650 cost= 76.945259094 W= -0.7977109 b= 8.904761\n",
            "Epoch: 0700 cost= 109.346618652 W= -0.9617972 b= 8.855038\n",
            "Epoch: 0700 cost= 101.586326599 W= -0.92761487 b= 8.862806\n",
            "Epoch: 0700 cost= 84.820709229 W= -0.8429657 b= 8.878197\n",
            "Epoch: 0700 cost= 66.035034180 W= -0.71627396 b= 8.897078\n",
            "Epoch: 0700 cost= 71.697181702 W= -0.7601616 b= 8.890744\n",
            "Epoch: 0700 cost= 57.586196899 W= -0.6318868 b= 8.92152\n",
            "Epoch: 0700 cost= 114.650444031 W= 0.06806476 b= 8.993097\n",
            "Epoch: 0700 cost= 84.834281921 W= -0.07423494 b= 8.977109\n",
            "Epoch: 0700 cost= 76.945259094 W= -0.7977109 b= 8.904761\n",
            "Epoch: 0750 cost= 109.346618652 W= -0.9617972 b= 8.855038\n",
            "Epoch: 0750 cost= 101.586326599 W= -0.92761487 b= 8.862806\n",
            "Epoch: 0750 cost= 84.820709229 W= -0.8429657 b= 8.878197\n",
            "Epoch: 0750 cost= 66.035034180 W= -0.71627396 b= 8.897078\n",
            "Epoch: 0750 cost= 71.697181702 W= -0.7601616 b= 8.890744\n",
            "Epoch: 0750 cost= 57.586196899 W= -0.6318868 b= 8.92152\n",
            "Epoch: 0750 cost= 114.650444031 W= 0.06806476 b= 8.993097\n",
            "Epoch: 0750 cost= 84.834281921 W= -0.07423494 b= 8.977109\n",
            "Epoch: 0750 cost= 76.945259094 W= -0.7977109 b= 8.904761\n",
            "Epoch: 0800 cost= 109.346618652 W= -0.9617972 b= 8.855038\n",
            "Epoch: 0800 cost= 101.586326599 W= -0.92761487 b= 8.862806\n",
            "Epoch: 0800 cost= 84.820709229 W= -0.8429657 b= 8.878197\n",
            "Epoch: 0800 cost= 66.035034180 W= -0.71627396 b= 8.897078\n",
            "Epoch: 0800 cost= 71.697181702 W= -0.7601616 b= 8.890744\n",
            "Epoch: 0800 cost= 57.586196899 W= -0.6318868 b= 8.92152\n",
            "Epoch: 0800 cost= 114.650444031 W= 0.06806476 b= 8.993097\n",
            "Epoch: 0800 cost= 84.834281921 W= -0.07423494 b= 8.977109\n",
            "Epoch: 0800 cost= 76.945259094 W= -0.7977109 b= 8.904761\n",
            "Epoch: 0850 cost= 109.346618652 W= -0.9617972 b= 8.855038\n",
            "Epoch: 0850 cost= 101.586326599 W= -0.92761487 b= 8.862806\n",
            "Epoch: 0850 cost= 84.820709229 W= -0.8429657 b= 8.878197\n",
            "Epoch: 0850 cost= 66.035034180 W= -0.71627396 b= 8.897078\n",
            "Epoch: 0850 cost= 71.697181702 W= -0.7601616 b= 8.890744\n",
            "Epoch: 0850 cost= 57.586196899 W= -0.6318868 b= 8.92152\n",
            "Epoch: 0850 cost= 114.650444031 W= 0.06806476 b= 8.993097\n",
            "Epoch: 0850 cost= 84.834281921 W= -0.07423494 b= 8.977109\n",
            "Epoch: 0850 cost= 76.945259094 W= -0.7977109 b= 8.904761\n",
            "Epoch: 0900 cost= 109.346618652 W= -0.9617972 b= 8.855038\n",
            "Epoch: 0900 cost= 101.586326599 W= -0.92761487 b= 8.862806\n",
            "Epoch: 0900 cost= 84.820709229 W= -0.8429657 b= 8.878197\n",
            "Epoch: 0900 cost= 66.035034180 W= -0.71627396 b= 8.897078\n",
            "Epoch: 0900 cost= 71.697181702 W= -0.7601616 b= 8.890744\n",
            "Epoch: 0900 cost= 57.586196899 W= -0.6318868 b= 8.92152\n",
            "Epoch: 0900 cost= 114.650444031 W= 0.06806476 b= 8.993097\n",
            "Epoch: 0900 cost= 84.834281921 W= -0.07423494 b= 8.977109\n",
            "Epoch: 0900 cost= 76.945259094 W= -0.7977109 b= 8.904761\n",
            "Epoch: 0950 cost= 109.346618652 W= -0.9617972 b= 8.855038\n",
            "Epoch: 0950 cost= 101.586326599 W= -0.92761487 b= 8.862806\n",
            "Epoch: 0950 cost= 84.820709229 W= -0.8429657 b= 8.878197\n",
            "Epoch: 0950 cost= 66.035034180 W= -0.71627396 b= 8.897078\n",
            "Epoch: 0950 cost= 71.697181702 W= -0.7601616 b= 8.890744\n",
            "Epoch: 0950 cost= 57.586196899 W= -0.6318868 b= 8.92152\n",
            "Epoch: 0950 cost= 114.650444031 W= 0.06806476 b= 8.993097\n",
            "Epoch: 0950 cost= 84.834281921 W= -0.07423494 b= 8.977109\n",
            "Epoch: 0950 cost= 76.945259094 W= -0.7977109 b= 8.904761\n",
            "Epoch: 1000 cost= 109.346618652 W= -0.9617972 b= 8.855038\n",
            "Epoch: 1000 cost= 101.586326599 W= -0.92761487 b= 8.862806\n",
            "Epoch: 1000 cost= 84.820709229 W= -0.8429657 b= 8.878197\n",
            "Epoch: 1000 cost= 66.035034180 W= -0.71627396 b= 8.897078\n",
            "Epoch: 1000 cost= 71.697181702 W= -0.7601616 b= 8.890744\n",
            "Epoch: 1000 cost= 57.586196899 W= -0.6318868 b= 8.92152\n",
            "Epoch: 1000 cost= 114.650444031 W= 0.06806476 b= 8.993097\n",
            "Epoch: 1000 cost= 84.834281921 W= -0.07423494 b= 8.977109\n",
            "Epoch: 1000 cost= 76.945259094 W= -0.7977109 b= 8.904761\n",
            "Optimization Finished!\n",
            "Training cost= 76.94526 W= -0.7977109 b= 8.904761 \n",
            "\n"
          ],
          "name": "stdout"
        },
        {
          "output_type": "display_data",
          "data": {
            "image/png": "[encoded data removed]",
            "text/plain": [
              "<Figure size 576x396 with 1 Axes>"
            ]
          },
          "metadata": {
            "tags": []
          }
        }
      ]
    },
    {
      "metadata": {
        "id": "b0DIjPP9rW7V",
        "colab_type": "text"
      },
      "cell_type": "markdown",
      "source": [
        "Testing the trained model"
      ]
    },
    {
      "metadata": {
        "id": "l3FxaCU7qggW",
        "colab_type": "code",
        "colab": {
          "base_uri": "https://localhost:8080/",
          "height": 402
        },
        "outputId": "a84d2cbc-6b1f-4ef9-c6dd-b98b6493f5ac"
      },
      "cell_type": "code",
      "source": [
        "# Testing example:\n",
        "test_X = numpy.asarray([6.83, 4.668, 8.9, 7.91, 5.7, 8.7, 3.1, 2.1])\n",
        "test_Y = numpy.asarray([1.84, 2.273, 3.2, 2.831, 2.92, 3.24, 1.35, 1.03])\n",
        "\n",
        "print(\"Testing... (Mean square loss Comparison)\")\n",
        "# testing_cost = sess.run(tf.reduce_sum(tf.pow(pred - Y, 2)) / (2 * test_X.shape[0]),feed_dict={X: test_X, Y: test_Y})  # same function as cost above\n",
        "testing_cost = sess.run(tf.reduce_sum(tf.pow(pred - Y, 2)) / (2),feed_dict={X: test_X, Y: test_Y})  # same function as cost above\n",
        "print(\"Testing cost=\", testing_cost)\n",
        "print(\"Absolute mean square loss difference:\", abs(training_cost - testing_cost))\n",
        "\n",
        "plt.plot(test_X, test_Y, 'bo', label='Testing data')\n",
        "plt.plot(train_x, sess.run(w) * train_x + sess.run(b), label='Fitted line')\n",
        "plt.legend()\n",
        "plt.show()"
      ],
      "execution_count": 21,
      "outputs": [
        {
          "output_type": "stream",
          "text": [
            "Testing... (Mean square loss Comparison)\n",
            "Testing cost= 40.512276\n",
            "Absolute mean square loss difference: 36.432983\n"
          ],
          "name": "stdout"
        },
        {
          "output_type": "display_data",
          "data": {
            "image/png": "[encoded data removed]",
            "text/plain": [
              "<Figure size 576x396 with 1 Axes>"
            ]
          },
          "metadata": {
            "tags": []
          }
        }
      ]
    },
    {
      "metadata": {
        "id": "C6hEkxLxrhr-",
        "colab_type": "text"
      },
      "cell_type": "markdown",
      "source": [
        "\n",
        "\n",
        "Predict output for new value\n"
      ]
    },
    {
      "metadata": {
        "id": "BBhc3v9hrAa2",
        "colab_type": "code",
        "colab": {
          "base_uri": "https://localhost:8080/",
          "height": 72
        },
        "outputId": "8528191c-5a2b-4d40-b0b9-bb7d227804f2"
      },
      "cell_type": "code",
      "source": [
        "#Predicting output on new value:\n",
        "print(\"For new value '3.5'...\\n\")\n",
        "print(\"Predicted output:\", sess.run(pred,feed_dict={X: 3.5}))"
      ],
      "execution_count": 22,
      "outputs": [
        {
          "output_type": "stream",
          "text": [
            "For new value '3.5'...\n",
            "\n",
            "Predicted output: 6.112773\n"
          ],
          "name": "stdout"
        }
      ]
    }
  ]
}